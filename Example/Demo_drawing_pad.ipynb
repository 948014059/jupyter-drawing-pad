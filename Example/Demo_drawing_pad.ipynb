{
 "cells": [
  {
   "cell_type": "markdown",
   "metadata": {},
   "source": [
    "# Demo for jupyter-drawing-pad widget"
   ]
  },
  {
   "cell_type": "code",
   "execution_count": 1,
   "metadata": {},
   "outputs": [],
   "source": [
    "import jupyter_drawing_pad as jd\n",
    "import matplotlib.pyplot as plt"
   ]
  },
  {
   "cell_type": "markdown",
   "metadata": {},
   "source": [
    "The widget is a box containing a drawing pad (main widget) and buttons (related to functionalities described below). Here is the drawing pad. You can draw whatever you want and data will be synchronised with the Python."
   ]
  },
  {
   "cell_type": "code",
   "execution_count": 2,
   "metadata": {},
   "outputs": [
    {
     "data": {
      "application/vnd.jupyter.widget-view+json": {
       "model_id": "7750d11e110142799eed2c8bf2adbb9d",
       "version_major": 2,
       "version_minor": 0
      },
      "text/html": [
       "<p>Failed to display Jupyter Widget of type <code>DrawingPad</code>.</p>\n",
       "<p>\n",
       "  If you're reading this message in the Jupyter Notebook or JupyterLab Notebook, it may mean\n",
       "  that the widgets JavaScript is still loading. If this message persists, it\n",
       "  likely means that the widgets JavaScript library is either not installed or\n",
       "  not enabled. See the <a href=\"https://ipywidgets.readthedocs.io/en/stable/user_install.html\">Jupyter\n",
       "  Widgets Documentation</a> for setup instructions.\n",
       "</p>\n",
       "<p>\n",
       "  If you're reading this message in another frontend (for example, a static\n",
       "  rendering on GitHub or <a href=\"https://nbviewer.jupyter.org/\">NBViewer</a>),\n",
       "  it may mean that your frontend doesn't currently support widgets.\n",
       "</p>\n"
      ],
      "text/plain": [
       "DrawingPad(data=[[], [], []])"
      ]
     },
     "metadata": {},
     "output_type": "display_data"
    }
   ],
   "source": [
    "widget = jd.CustomBox()\n",
    "widget.drawing_pad"
   ]
  },
  {
   "cell_type": "code",
   "execution_count": 3,
   "metadata": {},
   "outputs": [
    {
     "name": "stdout",
     "output_type": "stream",
     "text": [
      "[[], [], []]\n"
     ]
    }
   ],
   "source": [
    "print(widget.drawing_pad.data)"
   ]
  },
  {
   "cell_type": "markdown",
   "metadata": {},
   "source": [
    "Synchronisation works both ways !"
   ]
  },
  {
   "cell_type": "code",
   "execution_count": 4,
   "metadata": {},
   "outputs": [],
   "source": [
    "widget.drawing_pad.data = [ [100,200,300], [100,20,30], [1,2,3]]"
   ]
  },
  {
   "cell_type": "markdown",
   "metadata": {},
   "source": [
    "You can display the entiere widget. There are four additionnal elements:\n",
    "+ a text-field : to enter a name related to a signature (drawn in the drawing pad)\n",
    "+ a Clear button\n",
    "+ a Save button : to save a signature (related to the name written in the text field)\n",
    "+ a Login button : you can try to reproduce a signature previously registered. If this signature is close enough to one of the saved ones, a message  `Welcome (name)`  should appear"
   ]
  },
  {
   "cell_type": "code",
   "execution_count": 5,
   "metadata": {
    "scrolled": false
   },
   "outputs": [
    {
     "data": {
      "application/vnd.jupyter.widget-view+json": {
       "model_id": "97c4b1bb6c7c4d679f143e3a121df144",
       "version_major": 2,
       "version_minor": 0
      },
      "text/html": [
       "<p>Failed to display Jupyter Widget of type <code>CustomBox</code>.</p>\n",
       "<p>\n",
       "  If you're reading this message in the Jupyter Notebook or JupyterLab Notebook, it may mean\n",
       "  that the widgets JavaScript is still loading. If this message persists, it\n",
       "  likely means that the widgets JavaScript library is either not installed or\n",
       "  not enabled. See the <a href=\"https://ipywidgets.readthedocs.io/en/stable/user_install.html\">Jupyter\n",
       "  Widgets Documentation</a> for setup instructions.\n",
       "</p>\n",
       "<p>\n",
       "  If you're reading this message in another frontend (for example, a static\n",
       "  rendering on GitHub or <a href=\"https://nbviewer.jupyter.org/\">NBViewer</a>),\n",
       "  it may mean that your frontend doesn't currently support widgets.\n",
       "</p>\n"
      ],
      "text/plain": [
       "CustomBox(children=(DrawingPad(data=[[100, 200, 300], [100, 20, 30], [1, 2, 3]]), VBox(children=(Text(value='', description='Name:', placeholder='Type your name'), Button(description='Clear', style=ButtonStyle(), tooltip='Click me'), Button(description='Save', style=ButtonStyle(), tooltip='Click me'), Button(description='Login', style=ButtonStyle(), tooltip='Click me')))))"
      ]
     },
     "metadata": {},
     "output_type": "display_data"
    }
   ],
   "source": [
    "widget"
   ]
  },
  {
   "cell_type": "markdown",
   "metadata": {},
   "source": [
    "Accessing registered signatures"
   ]
  },
  {
   "cell_type": "code",
   "execution_count": 6,
   "metadata": {},
   "outputs": [
    {
     "name": "stdout",
     "output_type": "stream",
     "text": [
      "{}\n"
     ]
    }
   ],
   "source": [
    "print(widget.get_saved())"
   ]
  },
  {
   "cell_type": "markdown",
   "metadata": {},
   "source": [
    "Reproducing the content of the drawing pad in a figure using matplotlib"
   ]
  },
  {
   "cell_type": "code",
   "execution_count": 7,
   "metadata": {},
   "outputs": [
    {
     "data": {
      "image/png": "[encoded data removed]",
      "text/plain": [
       "<matplotlib.figure.Figure at 0x7f2cb89a2358>"
      ]
     },
     "metadata": {},
     "output_type": "display_data"
    }
   ],
   "source": [
    "plt.figure(figsize=(10,5))\n",
    "plt.plot(widget.drawing_pad.data[0], widget.drawing_pad.data[1])\n",
    "plt.xlim(0,500)\n",
    "plt.ylim(0,250)\n",
    "plt.show()"
   ]
  },
  {
   "cell_type": "code",
   "execution_count": null,
   "metadata": {
    "collapsed": true
   },
   "outputs": [],
   "source": []
  }
 ],
 "metadata": {
  "kernelspec": {
   "display_name": "Python 3",
   "language": "python",
   "name": "python3"
  },
  "language_info": {
   "codemirror_mode": {
    "name": "ipython",
    "version": 3
   },
   "file_extension": ".py",
   "mimetype": "text/x-python",
   "name": "python",
   "nbconvert_exporter": "python",
   "pygments_lexer": "ipython3",
   "version": "3.6.4"
  },
  "widgets": {
   "application/vnd.jupyter.widget-state+json": {
    "state": {
     "011ee61f8bfe4c6e85721b7ce37da179": {
      "model_module": "@jupyter-widgets/controls",
      "model_module_version": "1.1.0",
      "model_name": "VBoxModel",
      "state": {
       "children": [
        "IPY_MODEL_fa4f19fe27c34547bf2f5d46bcdeb1bf",
        "IPY_MODEL_bb647669e5294bfeaf82f27d15f97aef",
        "IPY_MODEL_30c983fe9a364aecb350ac17ec91cf8f",
        "IPY_MODEL_66e4828a380d4b108ba90d0d32af671a"
       ],
       "layout": "IPY_MODEL_c523576197324e798f8b03e68b322f8c"
      }
     },
     "1c4ecf75ed504ac4972435ac1856ff3b": {
      "model_module": "@jupyter-widgets/base",
      "model_module_version": "1.0.0",
      "model_name": "LayoutModel",
      "state": {}
     },
     "30c983fe9a364aecb350ac17ec91cf8f": {
      "model_module": "@jupyter-widgets/controls",
      "model_module_version": "1.1.0",
      "model_name": "ButtonModel",
      "state": {
       "description": "Save",
       "layout": "IPY_MODEL_daa0d6baa8294f8baa289805ecf16cf5",
       "style": "IPY_MODEL_6a77bb775b2841858f8375f5394a771d",
       "tooltip": "Click me"
      }
     },
     "66e4828a380d4b108ba90d0d32af671a": {
      "model_module": "@jupyter-widgets/controls",
      "model_module_version": "1.1.0",
      "model_name": "ButtonModel",
      "state": {
       "description": "Login",
       "layout": "IPY_MODEL_af05a630f36f4db1a3587715f1256e79",
       "style": "IPY_MODEL_e1e201146ae448df8e99c0662d1a852f",
       "tooltip": "Click me"
      }
     },
     "6a77bb775b2841858f8375f5394a771d": {
      "model_module": "@jupyter-widgets/controls",
      "model_module_version": "1.1.0",
      "model_name": "ButtonStyleModel",
      "state": {}
     },
     "6eede754390143819c8ee1e1dae96f36": {
      "model_module": "@jupyter-widgets/base",
      "model_module_version": "1.0.0",
      "model_name": "LayoutModel",
      "state": {}
     },
     "7750d11e110142799eed2c8bf2adbb9d": {
      "model_module": "jupyter-drawing-pad",
      "model_module_version": "^0.1.6",
      "model_name": "DrawingModel",
      "state": {
       "_model_module_version": "^0.1.6",
       "_view_module_version": "^0.1.6",
       "data": [
        [
         100,
         200,
         300
        ],
        [
         100,
         20,
         30
        ],
        [
         1,
         2,
         3
        ]
       ],
       "layout": "IPY_MODEL_6eede754390143819c8ee1e1dae96f36",
       "value": "Hello World!!!!!!!!!!!!!!!!"
      }
     },
     "7d83808684e14cc889ed5da3dc964fdc": {
      "model_module": "@jupyter-widgets/base",
      "model_module_version": "1.0.0",
      "model_name": "LayoutModel",
      "state": {}
     },
     "97c4b1bb6c7c4d679f143e3a121df144": {
      "model_module": "@jupyter-widgets/controls",
      "model_module_version": "1.1.0",
      "model_name": "HBoxModel",
      "state": {
       "children": [
        "IPY_MODEL_7750d11e110142799eed2c8bf2adbb9d",
        "IPY_MODEL_011ee61f8bfe4c6e85721b7ce37da179"
       ],
       "layout": "IPY_MODEL_7d83808684e14cc889ed5da3dc964fdc"
      }
     },
     "99758089ddda43bd8ed42ec85bfd9cb2": {
      "model_module": "@jupyter-widgets/controls",
      "model_module_version": "1.1.0",
      "model_name": "DescriptionStyleModel",
      "state": {
       "description_width": ""
      }
     },
     "9f2180255b584f0fb16fb81e050886f1": {
      "model_module": "@jupyter-widgets/base",
      "model_module_version": "1.0.0",
      "model_name": "LayoutModel",
      "state": {}
     },
     "af05a630f36f4db1a3587715f1256e79": {
      "model_module": "@jupyter-widgets/base",
      "model_module_version": "1.0.0",
      "model_name": "LayoutModel",
      "state": {}
     },
     "bb647669e5294bfeaf82f27d15f97aef": {
      "model_module": "@jupyter-widgets/controls",
      "model_module_version": "1.1.0",
      "model_name": "ButtonModel",
      "state": {
       "description": "Clear",
       "layout": "IPY_MODEL_1c4ecf75ed504ac4972435ac1856ff3b",
       "style": "IPY_MODEL_bbc1f163fb534a9b9117fc8fd09be441",
       "tooltip": "Click me"
      }
     },
     "bbc1f163fb534a9b9117fc8fd09be441": {
      "model_module": "@jupyter-widgets/controls",
      "model_module_version": "1.1.0",
      "model_name": "ButtonStyleModel",
      "state": {}
     },
     "c523576197324e798f8b03e68b322f8c": {
      "model_module": "@jupyter-widgets/base",
      "model_module_version": "1.0.0",
      "model_name": "LayoutModel",
      "state": {}
     },
     "daa0d6baa8294f8baa289805ecf16cf5": {
      "model_module": "@jupyter-widgets/base",
      "model_module_version": "1.0.0",
      "model_name": "LayoutModel",
      "state": {}
     },
     "e1e201146ae448df8e99c0662d1a852f": {
      "model_module": "@jupyter-widgets/controls",
      "model_module_version": "1.1.0",
      "model_name": "ButtonStyleModel",
      "state": {}
     },
     "fa4f19fe27c34547bf2f5d46bcdeb1bf": {
      "model_module": "@jupyter-widgets/controls",
      "model_module_version": "1.1.0",
      "model_name": "TextModel",
      "state": {
       "description": "Name:",
       "layout": "IPY_MODEL_9f2180255b584f0fb16fb81e050886f1",
       "placeholder": "Type your name",
       "style": "IPY_MODEL_99758089ddda43bd8ed42ec85bfd9cb2"
      }
     }
    },
    "version_major": 2,
    "version_minor": 0
   }
  }
 },
 "nbformat": 4,
 "nbformat_minor": 2
}
