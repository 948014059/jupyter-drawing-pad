{
 "cells": [
  {
   "cell_type": "code",
   "execution_count": 1,
   "metadata": {},
   "outputs": [],
   "source": [
    "import jupyter_drawing_pad as jd"
   ]
  },
  {
   "cell_type": "code",
   "execution_count": 2,
   "metadata": {},
   "outputs": [
    {
     "data": {
      "application/vnd.jupyter.widget-view+json": {
       "model_id": "f512af237c0043ebbc275f525ba75961",
       "version_major": 2,
       "version_minor": 0
      },
      "text/html": [
       "<p>Failed to display Jupyter Widget of type <code>DrawingPad</code>.</p>\n",
       "<p>\n",
       "  If you're reading this message in Jupyter Notebook or JupyterLab, it may mean\n",
       "  that the widgets JavaScript is still loading. If this message persists, it\n",
       "  likely means that the widgets JavaScript library is either not installed or\n",
       "  not enabled. See the <a href=\"https://ipywidgets.readthedocs.io/en/stable/user_install.html\">Jupyter\n",
       "  Widgets Documentation</a> for setup instructions.\n",
       "</p>\n",
       "<p>\n",
       "  If you're reading this message in another notebook frontend (for example, a static\n",
       "  rendering on GitHub or <a href=\"https://nbviewer.jupyter.org/\">NBViewer</a>),\n",
       "  it may mean that your frontend doesn't currently support widgets.\n",
       "</p>\n"
      ],
      "text/plain": [
       "DrawingPad(data=[[], [], []])"
      ]
     },
     "metadata": {},
     "output_type": "display_data"
    }
   ],
   "source": [
    "widget = jd.CustomBox()\n",
    "widget.drawing_pad"
   ]
  },
  {
   "cell_type": "code",
   "execution_count": 3,
   "metadata": {},
   "outputs": [
    {
     "data": {
      "application/vnd.jupyter.widget-view+json": {
       "model_id": "aa50577e3c144096a5b5251dfe73bcb8",
       "version_major": 2,
       "version_minor": 0
      },
      "text/html": [
       "<p>Failed to display Jupyter Widget of type <code>CustomBox</code>.</p>\n",
       "<p>\n",
       "  If you're reading this message in Jupyter Notebook or JupyterLab, it may mean\n",
       "  that the widgets JavaScript is still loading. If this message persists, it\n",
       "  likely means that the widgets JavaScript library is either not installed or\n",
       "  not enabled. See the <a href=\"https://ipywidgets.readthedocs.io/en/stable/user_install.html\">Jupyter\n",
       "  Widgets Documentation</a> for setup instructions.\n",
       "</p>\n",
       "<p>\n",
       "  If you're reading this message in another notebook frontend (for example, a static\n",
       "  rendering on GitHub or <a href=\"https://nbviewer.jupyter.org/\">NBViewer</a>),\n",
       "  it may mean that your frontend doesn't currently support widgets.\n",
       "</p>\n"
      ],
      "text/plain": [
       "CustomBox(children=(DrawingPad(data=[[], [], []]), VBox(children=(Button(description='Clear', style=ButtonStyle(), tooltip='Click me'), Button(description='Save', style=ButtonStyle(), tooltip='Click me'), Button(description='Login', style=ButtonStyle(), tooltip='Click me')))))"
      ]
     },
     "metadata": {},
     "output_type": "display_data"
    },
    {
     "name": "stdout",
     "output_type": "stream",
     "text": [
      "0.0\n",
      "178.274929318\n",
      "44.8199326831\n",
      "55.4447851914\n",
      "151.450381994\n",
      "211.985575571\n"
     ]
    }
   ],
   "source": [
    "widget"
   ]
  },
  {
   "cell_type": "code",
   "execution_count": 7,
   "metadata": {},
   "outputs": [
    {
     "data": {
      "text/plain": [
       "[[], [], []]"
      ]
     },
     "execution_count": 7,
     "metadata": {},
     "output_type": "execute_result"
    }
   ],
   "source": [
    "widget.get_saved()"
   ]
  },
  {
   "cell_type": "code",
   "execution_count": null,
   "metadata": {},
   "outputs": [],
   "source": []
  },
  {
   "cell_type": "code",
   "execution_count": 6,
   "metadata": {},
   "outputs": [],
   "source": [
    "widget = jd.DrawingPad()\n",
    "widget.value = \"Example\""
   ]
  },
  {
   "cell_type": "code",
   "execution_count": 5,
   "metadata": {},
   "outputs": [
    {
     "data": {
      "application/vnd.jupyter.widget-view+json": {
       "model_id": "250c536cdef34678979ff016bcbe54cd",
       "version_major": 2,
       "version_minor": 0
      },
      "text/html": [
       "<p>Failed to display Jupyter Widget of type <code>DrawingPad</code>.</p>\n",
       "<p>\n",
       "  If you're reading this message in Jupyter Notebook or JupyterLab, it may mean\n",
       "  that the widgets JavaScript is still loading. If this message persists, it\n",
       "  likely means that the widgets JavaScript library is either not installed or\n",
       "  not enabled. See the <a href=\"https://ipywidgets.readthedocs.io/en/stable/user_install.html\">Jupyter\n",
       "  Widgets Documentation</a> for setup instructions.\n",
       "</p>\n",
       "<p>\n",
       "  If you're reading this message in another notebook frontend (for example, a static\n",
       "  rendering on GitHub or <a href=\"https://nbviewer.jupyter.org/\">NBViewer</a>),\n",
       "  it may mean that your frontend doesn't currently support widgets.\n",
       "</p>\n"
      ],
      "text/plain": [
       "DrawingPad(data=[[252.5, 250.5, 246.5, 242.5, 239.5, 234.5, 231.5, 227.5, 222.5, 215.5, 206.5, 198.5, 184.5, 176.5, 169.5, 161.5, 154.5, 153.5, 149.5, 145.5, 142.5, 138.5, 135.5, 132.5, 131.5, 130.5, 127.5, 124.5, 121.5, 120.5, 117.5, 115.5, 112.5, 111.5, 109.5, 107.5, 105.5, 104.5], [201.13330078125, 201.13330078125, 201.13330078125, 201.13330078125, 201.13330078125, 201.13330078125, 201.13330078125, 201.13330078125, 201.13330078125, 201.13330078125, 201.13330078125, 201.13330078125, 201.13330078125, 201.13330078125, 201.13330078125, 201.13330078125, 201.13330078125, 201.13330078125, 201.13330078125, 201.13330078125, 201.13330078125, 201.13330078125, 201.13330078125, 201.13330078125, 201.13330078125, 201.13330078125, 201.13330078125, 201.13330078125, 201.13330078125, 201.13330078125, 201.13330078125, 201.13330078125, 201.13330078125, 201.13330078125, 201.13330078125, 201.13330078125, 201.13330078125, 201.13330078125], [51697.546123, 51714.026126, 51721.577705, 51729.527988999995, 51738.026733, 51745.549247, 51753.447325, 51761.487448, 51769.471230999996, 51777.536587, 51785.667001999995, 51793.490163, 51809.55189, 51817.801532, 51825.558809999995, 51833.796708, 51841.464427, 51849.491839, 51857.510708, 51865.485054, 51873.497577, 51881.545727000004, 51889.521306, 51897.51329, 51905.646585, 51913.584919, 51921.579194000005, 51929.525721, 51937.860700000005, 51945.479602, 51953.952126, 51961.577128000004, 51969.832804, 51977.510035, 51985.699947999994, 51993.554947, 52001.752328, 52009.556744]])"
      ]
     },
     "metadata": {},
     "output_type": "display_data"
    }
   ],
   "source": [
    "widget"
   ]
  },
  {
   "cell_type": "code",
   "execution_count": 4,
   "metadata": {},
   "outputs": [
    {
     "data": {
      "application/vnd.jupyter.widget-view+json": {
       "model_id": "250c536cdef34678979ff016bcbe54cd",
       "version_major": 2,
       "version_minor": 0
      },
      "text/html": [
       "<p>Failed to display Jupyter Widget of type <code>DrawingPad</code>.</p>\n",
       "<p>\n",
       "  If you're reading this message in Jupyter Notebook or JupyterLab, it may mean\n",
       "  that the widgets JavaScript is still loading. If this message persists, it\n",
       "  likely means that the widgets JavaScript library is either not installed or\n",
       "  not enabled. See the <a href=\"https://ipywidgets.readthedocs.io/en/stable/user_install.html\">Jupyter\n",
       "  Widgets Documentation</a> for setup instructions.\n",
       "</p>\n",
       "<p>\n",
       "  If you're reading this message in another notebook frontend (for example, a static\n",
       "  rendering on GitHub or <a href=\"https://nbviewer.jupyter.org/\">NBViewer</a>),\n",
       "  it may mean that your frontend doesn't currently support widgets.\n",
       "</p>\n"
      ],
      "text/plain": [
       "DrawingPad(data=[[], [], []])"
      ]
     },
     "metadata": {},
     "output_type": "display_data"
    }
   ],
   "source": [
    "widget"
   ]
  },
  {
   "cell_type": "code",
   "execution_count": 8,
   "metadata": {},
   "outputs": [
    {
     "data": {
      "text/plain": [
       "[[], [], []]"
      ]
     },
     "execution_count": 8,
     "metadata": {},
     "output_type": "execute_result"
    }
   ],
   "source": [
    "widget.data"
   ]
  },
  {
   "cell_type": "code",
   "execution_count": 9,
   "metadata": {},
   "outputs": [
    {
     "ename": "AttributeError",
     "evalue": "'DrawingPad' object has no attribute 'data_y'",
     "output_type": "error",
     "traceback": [
      "\u001b[0;31m---------------------------------------------------------------------------\u001b[0m",
      "\u001b[0;31mAttributeError\u001b[0m                            Traceback (most recent call last)",
      "\u001b[0;32m<ipython-input-9-c1a9b2ebf28d>\u001b[0m in \u001b[0;36m<module>\u001b[0;34m()\u001b[0m\n\u001b[0;32m----> 1\u001b[0;31m \u001b[0mlen\u001b[0m\u001b[0;34m(\u001b[0m\u001b[0mwidget\u001b[0m\u001b[0;34m.\u001b[0m\u001b[0mdata_y\u001b[0m\u001b[0;34m)\u001b[0m\u001b[0;34m\u001b[0m\u001b[0m\n\u001b[0m",
      "\u001b[0;31mAttributeError\u001b[0m: 'DrawingPad' object has no attribute 'data_y'"
     ]
    }
   ],
   "source": [
    "len(widget.data_y)"
   ]
  },
  {
   "cell_type": "code",
   "execution_count": 24,
   "metadata": {},
   "outputs": [
    {
     "data": {
      "text/plain": [
       "60"
      ]
     },
     "execution_count": 24,
     "metadata": {},
     "output_type": "execute_result"
    }
   ],
   "source": [
    "len(widget.time)"
   ]
  },
  {
   "cell_type": "code",
   "execution_count": 42,
   "metadata": {},
   "outputs": [],
   "source": [
    "import matplotlib.pyplot as plt"
   ]
  },
  {
   "cell_type": "code",
   "execution_count": 46,
   "metadata": {},
   "outputs": [
    {
     "data": {
      "image/png": "[encoded data removed]",
      "text/plain": [
       "<matplotlib.figure.Figure at 0x7fccf705d710>"
      ]
     },
     "metadata": {},
     "output_type": "display_data"
    }
   ],
   "source": [
    "plt.figure(figsize=(10,5))\n",
    "plt.plot(widget.data[0], widget.data[1])\n",
    "plt.xlim(0,500)\n",
    "plt.ylim(0,250)\n",
    "plt.show()"
   ]
  },
  {
   "cell_type": "code",
   "execution_count": 114,
   "metadata": {},
   "outputs": [
    {
     "data": {
      "application/vnd.jupyter.widget-view+json": {
       "model_id": "7022bb6da4004b699a806c2e005b4a53",
       "version_major": 2,
       "version_minor": 0
      },
      "text/html": [
       "<p>Failed to display Jupyter Widget of type <code>DrawingPad</code>.</p>\n",
       "<p>\n",
       "  If you're reading this message in Jupyter Notebook or JupyterLab, it may mean\n",
       "  that the widgets JavaScript is still loading. If this message persists, it\n",
       "  likely means that the widgets JavaScript library is either not installed or\n",
       "  not enabled. See the <a href=\"https://ipywidgets.readthedocs.io/en/stable/user_install.html\">Jupyter\n",
       "  Widgets Documentation</a> for setup instructions.\n",
       "</p>\n",
       "<p>\n",
       "  If you're reading this message in another notebook frontend (for example, a static\n",
       "  rendering on GitHub or <a href=\"https://nbviewer.jupyter.org/\">NBViewer</a>),\n",
       "  it may mean that your frontend doesn't currently support widgets.\n",
       "</p>\n"
      ],
      "text/plain": [
       "DrawingPad(data_x=[138.5, 139.5, 142.5, 145.5, 166.5, 177.5, 196.5, 206.5, 226.5, 237.5, 271.5, 280.5, 285.5, 287.5, 290.5, 291.5, 300.5, 305.5, 306.5, 307.5, 312.5, 314.5, 316.5, 317.5, 317.5, 321.5, 322.5, 322.5, 322.5, 322.5, 322.5, 321.5, 319.5, 318.5, 316.5, 314.5, 312.5, 306.5, 300.5, 298.5, 295.5, 293.5, 289.5, 322.5, 323.5, 324.5, 326.5, 332.5, 334.5, 336.5, 337.5, 339.5, 341.5, 356.5, 357.5, 359.5, 365.5, 369.5, 370.5, 372.5, 374.5, 377.5, 379.5, 380.5], data_y=[159.93333435058594, 159.93333435058594, 156.93333435058594, 155.93333435058594, 139.93333435058594, 127.93333435058594, 114.93333435058594, 106.93333435058594, 91.93333435058594, 84.93333435058594, 65.93333435058594, 60.93333435058594, 60.93333435058594, 60.93333435058594, 60.93333435058594, 60.93333435058594, 60.93333435058594, 60.93333435058594, 60.93333435058594, 60.93333435058594, 62.93333435058594, 68.93333435058594, 72.93333435058594, 75.93333435058594, 77.93333435058594, 88.93333435058594, 89.93333435058594, 93.93333435058594, 95.93333435058594, 98.93333435058594, 99.93333435058594, 107.93333435058594, 108.93333435058594, 108.93333435058594, 108.93333435058594, 108.93333435058594, 108.93333435058594, 108.93333435058594, 106.93333435058594, 106.93333435058594, 106.93333435058594, 103.93333435058594, 102.93333435058594, 181.93333435058594, 181.93333435058594, 181.93333435058594, 181.93333435058594, 179.93333435058594, 179.93333435058594, 177.93333435058594, 176.93333435058594, 175.93333435058594, 174.93333435058594, 160.93333435058594, 159.93333435058594, 158.93333435058594, 154.93333435058594, 152.93333435058594, 151.93333435058594, 149.93333435058594, 147.93333435058594, 144.93333435058594, 143.93333435058594, 142.93333435058594], time=[16911.556162, 16919.545806, 16927.54365, 16935.199270999998, 16967.576672, 16982.753655, 16999.509067000003, 17006.871885, 17023.538473999997, 17031.461686, 17063.152116, 17071.456209, 17078.844957, 17086.673987000002, 17095.196554000002, 17103.41794, 17167.220983, 17183.477178, 17191.440209, 17199.04909, 17223.150848999998, 17238.806804, 17247.453726, 17255.363584000002, 17263.117073, 17295.163498, 17303.016133, 17310.926086, 17318.693779, 17327.439919, 17335.556796999997, 17374.830732, 17382.865663, 17455.495124999998, 17462.694422999997, 17471.453326, 17478.693034, 17502.976373999998, 17519.618165, 17527.510219, 17534.700233, 17543.565204, 17575.521944, 18239.409521999998, 18247.528834, 18255.499875999998, 18263.484489, 18288.311886, 18295.586784000003, 18310.982004999998, 18319.486048000002, 18327.500122, 18335.392101, 18375.447914, 18382.800812999998, 18391.560838, 18415.350974999998, 18455.491916, 18463.301933, 18479.519693000002, 18487.540653, 18510.646865, 18568.096559, 18583.237983], value='Example')"
      ]
     },
     "metadata": {},
     "output_type": "display_data"
    }
   ],
   "source": [
    "widget"
   ]
  },
  {
   "cell_type": "code",
   "execution_count": 44,
   "metadata": {},
   "outputs": [],
   "source": [
    "widget.data = [ [10,20,30], [10,20,30], [1,2,3]]"
   ]
  },
  {
   "cell_type": "code",
   "execution_count": null,
   "metadata": {},
   "outputs": [],
   "source": []
  }
 ],
 "metadata": {
  "kernelspec": {
   "display_name": "Python 3",
   "language": "python",
   "name": "python3"
  },
  "language_info": {
   "codemirror_mode": {
    "name": "ipython",
    "version": 3
   },
   "file_extension": ".py",
   "mimetype": "text/x-python",
   "name": "python",
   "nbconvert_exporter": "python",
   "pygments_lexer": "ipython3",
   "version": "3.6.2"
  }
 },
 "nbformat": 4,
 "nbformat_minor": 2
}
