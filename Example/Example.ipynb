{
 "cells": [
  {
   "cell_type": "code",
   "execution_count": 1,
   "metadata": {},
   "outputs": [],
   "source": [
    "import jupyter_drawing_pad as jd"
   ]
  },
  {
   "cell_type": "code",
   "execution_count": 2,
   "metadata": {},
   "outputs": [],
   "source": [
    "widget = jd.DrawingPad()"
   ]
  },
  {
   "cell_type": "code",
   "execution_count": 3,
   "metadata": {},
   "outputs": [
    {
     "data": {
      "text/plain": [
       "'Hello World!!!!!!!!!!!!!!!!'"
      ]
     },
     "execution_count": 3,
     "metadata": {},
     "output_type": "execute_result"
    }
   ],
   "source": [
    "widget.value"
   ]
  },
  {
   "cell_type": "code",
   "execution_count": 4,
   "metadata": {},
   "outputs": [],
   "source": [
    "widget.value = \"Example\""
   ]
  },
  {
   "cell_type": "code",
   "execution_count": 5,
   "metadata": {},
   "outputs": [
    {
     "data": {
      "application/vnd.jupyter.widget-view+json": {
       "model_id": "0d01f00ea58749159d56d9c942dc1791",
       "version_major": 2,
       "version_minor": 0
      },
      "text/html": [
       "<p>Failed to display Jupyter Widget of type <code>DrawingPad</code>.</p>\n",
       "<p>\n",
       "  If you're reading this message in Jupyter Notebook or JupyterLab, it may mean\n",
       "  that the widgets JavaScript is still loading. If this message persists, it\n",
       "  likely means that the widgets JavaScript library is either not installed or\n",
       "  not enabled. See the <a href=\"https://ipywidgets.readthedocs.io/en/stable/user_install.html\">Jupyter\n",
       "  Widgets Documentation</a> for setup instructions.\n",
       "</p>\n",
       "<p>\n",
       "  If you're reading this message in another notebook frontend (for example, a static\n",
       "  rendering on GitHub or <a href=\"https://nbviewer.jupyter.org/\">NBViewer</a>),\n",
       "  it may mean that your frontend doesn't currently support widgets.\n",
       "</p>\n"
      ],
      "text/plain": [
       "DrawingPad(value='Example')"
      ]
     },
     "metadata": {},
     "output_type": "display_data"
    }
   ],
   "source": [
    "widget"
   ]
  },
  {
   "cell_type": "code",
   "execution_count": 6,
   "metadata": {},
   "outputs": [
    {
     "data": {
      "text/plain": [
       "45"
      ]
     },
     "execution_count": 6,
     "metadata": {},
     "output_type": "execute_result"
    }
   ],
   "source": [
    "len(widget.data_x)"
   ]
  },
  {
   "cell_type": "code",
   "execution_count": 71,
   "metadata": {},
   "outputs": [
    {
     "data": {
      "text/plain": [
       "187"
      ]
     },
     "execution_count": 71,
     "metadata": {},
     "output_type": "execute_result"
    }
   ],
   "source": [
    "len(widget.data_y)"
   ]
  },
  {
   "cell_type": "code",
   "execution_count": 77,
   "metadata": {},
   "outputs": [
    {
     "data": {
      "text/plain": [
       "361"
      ]
     },
     "execution_count": 77,
     "metadata": {},
     "output_type": "execute_result"
    }
   ],
   "source": [
    "len(widget.time)"
   ]
  },
  {
   "cell_type": "code",
   "execution_count": 73,
   "metadata": {
    "collapsed": true
   },
   "outputs": [],
   "source": [
    "import matplotlib.pyplot as plt"
   ]
  },
  {
   "cell_type": "code",
   "execution_count": 76,
   "metadata": {},
   "outputs": [
    {
     "data": {
      "image/png": "[encoded data removed]",
      "text/plain": [
       "<matplotlib.figure.Figure at 0x7f2c2bee2550>"
      ]
     },
     "metadata": {},
     "output_type": "display_data"
    }
   ],
   "source": [
    "plt.figure(figsize=(10,5))\n",
    "plt.plot(widget.data_x, widget.data_y)\n",
    "plt.xlim(0,500)\n",
    "plt.ylim(0,250)\n",
    "plt.show()"
   ]
  },
  {
   "cell_type": "code",
   "execution_count": 32,
   "metadata": {},
   "outputs": [
    {
     "data": {
      "application/vnd.jupyter.widget-view+json": {
       "model_id": "b16434ce219e4cea8875b618f6c7bf33",
       "version_major": 2,
       "version_minor": 0
      },
      "text/html": [
       "<p>Failed to display Jupyter Widget of type <code>DrawingPad</code>.</p>\n",
       "<p>\n",
       "  If you're reading this message in Jupyter Notebook or JupyterLab, it may mean\n",
       "  that the widgets JavaScript is still loading. If this message persists, it\n",
       "  likely means that the widgets JavaScript library is either not installed or\n",
       "  not enabled. See the <a href=\"https://ipywidgets.readthedocs.io/en/stable/user_install.html\">Jupyter\n",
       "  Widgets Documentation</a> for setup instructions.\n",
       "</p>\n",
       "<p>\n",
       "  If you're reading this message in another notebook frontend (for example, a static\n",
       "  rendering on GitHub or <a href=\"https://nbviewer.jupyter.org/\">NBViewer</a>),\n",
       "  it may mean that your frontend doesn't currently support widgets.\n",
       "</p>\n"
      ],
      "text/plain": [
       "DrawingPad(data_x=[237.5, 236.5, 232.5, 231.5, 227.5, 224.5, 221.5, 220.5, 217.5, 215.5, 214.5, 210.5, 205.5, 204.5, 201.5, 197.5, 194.5, 189.5, 184.5, 183.5, 178.5, 175.5, 171.5, 169.5, 167.5, 166.5, 164.5, 162.5, 161.5, 160.5, 159.5, 156.5, 155.5, 155.5, 155.5, 153.5, 152.5, 152.5, 152.5, 152.5, 152.5, 152.5, 152.5, 153.5, 153.5, 154.5, 156.5, 158.5, 159.5, 160.5, 161.5, 163.5, 164.5, 165.5, 166.5, 167.5, 168.5, 169.5, 170.5, 171.5, 173.5, 174.5, 175.5, 176.5, 178.5, 180.5, 183.5, 186.5, 190.5, 194.5, 197.5, 204.5, 205.5, 211.5, 213.5, 217.5, 221.5, 226.5, 229.5, 235.5, 238.5, 244.5, 253.5, 260.5, 266.5, 272.5, 277.5, 284.5, 292.5, 299.5, 307.5, 316.5, 324.5, 331.5, 333.5, 336.5, 338.5, 341.5, 344.5, 345.5, 349.5, 353.5, 355.5, 363.5, 367.5, 370.5, 374.5, 375.5, 382.5, 384.5, 386.5, 386.5, 386.5, 387.5, 388.5, 388.5, 388.5, 388.5, 388.5, 388.5, 388.5, 388.5, 388.5, 388.5, 388.5, 388.5, 388.5, 387.5, 387.5, 386.5, 385.5, 382.5, 381.5, 380.5, 378.5, 377.5, 376.5, 375.5, 374.5, 373.5, 372.5, 371.5, 370.5, 368.5, 365.5, 364.5, 363.5, 361.5, 360.5, 357.5, 356.5, 352.5, 351.5, 350.5, 348.5, 346.5, 345.5, 344.5, 340.5, 339.5, 336.5, 334.5, 330.5, 329.5, 328.5, 325.5, 320.5, 318.5, 314.5, 312.5, 309.5, 306.5, 302.5, 299.5, 295.5, 292.5, 289.5, 283.5, 280.5, 277.5, 275.5, 272.5, 270.5, 268.5, 266.5, 261.5, 257.5, 253.5, 251.5, 250.5, 246.5, 245.5, 243.5, 241.5, 240.5, 238.5, 233.5, 232.5, 229.5, 224.5, 221.5, 218.5, 215.5, 211.5, 207.5, 204.5, 202.5, 199.5, 197.5, 193.5, 190.5, 187.5, 184.5, 182.5, 180.5, 175.5, 170.5, 157.5, 153.5, 149.5, 145.5, 142.5, 137.5, 132.5, 129.5, 125.5, 124.5, 121.5, 118.5, 116.5, 115.5, 114.5, 111.5, 110.5, 109.5, 108.5, 107.5, 106.5, 105.5, 104.5, 102.5, 101.5, 100.5, 99.5, 98.5, 97.5, 97.5, 97.5, 97.5, 96.5, 94.5, 93.5, 93.5, 93.5, 93.5, 93.5, 93.5, 93.5, 92.5, 92.5, 92.5, 92.5, 92.5, 92.5, 92.5, 92.5, 92.5, 92.5, 92.5, 92.5, 92.5, 92.5, 92.5, 92.5, 92.5, 92.5, 92.5, 92.5, 92.5, 92.5, 92.5, 92.5, 92.5, 92.5, 92.5, 92.5, 92.5, 92.5, 92.5, 92.5, 91.5, 91.5, 91.5, 90.5, 89.5, 89.5, 88.5, 87.5, 87.5, 85.5, 84.5, 83.5, 82.5, 81.5, 80.5], data_y=[62.066650390625, 62.066650390625, 62.066650390625, 62.066650390625, 62.066650390625, 62.066650390625, 62.066650390625, 62.066650390625, 62.066650390625, 62.066650390625, 62.066650390625, 62.066650390625, 64.066650390625, 64.066650390625, 65.066650390625, 65.066650390625, 66.066650390625, 68.066650390625, 70.066650390625, 71.066650390625, 71.066650390625, 72.066650390625, 73.066650390625, 73.066650390625, 75.066650390625, 75.066650390625, 76.066650390625, 76.066650390625, 77.066650390625, 77.066650390625, 78.066650390625, 80.066650390625, 81.066650390625, 82.066650390625, 85.066650390625, 87.066650390625, 88.066650390625, 90.066650390625, 91.066650390625, 92.066650390625, 96.066650390625, 97.066650390625, 99.066650390625, 103.066650390625, 104.066650390625, 106.066650390625, 107.066650390625, 109.066650390625, 112.066650390625, 113.066650390625, 114.066650390625, 116.066650390625, 117.066650390625, 119.066650390625, 120.066650390625, 121.066650390625, 121.066650390625, 122.066650390625, 123.066650390625, 124.066650390625, 124.066650390625, 124.066650390625, 124.066650390625, 124.066650390625, 124.066650390625, 124.066650390625, 124.066650390625, 124.066650390625, 124.066650390625, 124.066650390625, 124.066650390625, 124.066650390625, 124.066650390625, 123.066650390625, 123.066650390625, 123.066650390625, 122.066650390625, 122.066650390625, 121.066650390625, 119.066650390625, 118.066650390625, 117.066650390625, 117.066650390625, 115.066650390625, 113.066650390625, 111.066650390625, 109.066650390625, 107.066650390625, 105.066650390625, 104.066650390625, 102.066650390625, 102.066650390625, 102.066650390625, 100.066650390625, 100.066650390625, 100.066650390625, 100.066650390625, 100.066650390625, 100.066650390625, 100.066650390625, 100.066650390625, 103.066650390625, 105.066650390625, 111.066650390625, 111.066650390625, 114.066650390625, 118.066650390625, 124.066650390625, 137.066650390625, 143.066650390625, 148.066650390625, 154.066650390625, 156.066650390625, 158.066650390625, 160.066650390625, 161.066650390625, 162.066650390625, 163.066650390625, 166.066650390625, 167.066650390625, 169.066650390625, 171.066650390625, 177.066650390625, 178.066650390625, 182.066650390625, 183.066650390625, 184.066650390625, 186.066650390625, 188.066650390625, 189.066650390625, 191.066650390625, 193.066650390625, 194.066650390625, 196.066650390625, 200.066650390625, 201.066650390625, 202.066650390625, 204.066650390625, 204.066650390625, 204.066650390625, 205.066650390625, 205.066650390625, 206.066650390625, 206.066650390625, 207.066650390625, 208.066650390625, 209.066650390625, 209.066650390625, 209.066650390625, 210.066650390625, 210.066650390625, 211.066650390625, 211.066650390625, 211.066650390625, 211.066650390625, 211.066650390625, 211.066650390625, 211.066650390625, 211.066650390625, 211.066650390625, 211.066650390625, 211.066650390625, 211.066650390625, 211.066650390625, 211.066650390625, 211.066650390625, 211.066650390625, 211.066650390625, 211.066650390625, 211.066650390625, 211.066650390625, 211.066650390625, 211.066650390625, 210.066650390625, 209.066650390625, 208.066650390625, 208.066650390625, 207.066650390625, 205.066650390625, 204.066650390625, 204.066650390625, 204.066650390625, 204.066650390625, 204.066650390625, 204.066650390625, 202.066650390625, 202.066650390625, 201.066650390625, 199.066650390625, 199.066650390625, 198.066650390625, 198.066650390625, 198.066650390625, 198.066650390625, 198.066650390625, 197.066650390625, 196.066650390625, 196.066650390625, 196.066650390625, 194.066650390625, 193.066650390625, 193.066650390625, 192.066650390625, 192.066650390625, 192.066650390625, 192.066650390625, 191.066650390625, 191.066650390625, 191.066650390625, 191.066650390625, 191.066650390625, 191.066650390625, 189.066650390625, 188.066650390625, 188.066650390625, 188.066650390625, 188.066650390625, 185.066650390625, 185.066650390625, 185.066650390625, 183.066650390625, 181.066650390625, 179.066650390625, 179.066650390625, 177.066650390625, 176.066650390625, 175.066650390625, 174.066650390625, 172.066650390625, 170.066650390625, 170.066650390625, 170.066650390625, 169.066650390625, 168.066650390625, 167.066650390625, 166.066650390625, 164.066650390625, 164.066650390625, 163.066650390625, 161.066650390625, 160.066650390625, 159.066650390625, 159.066650390625, 157.066650390625, 156.066650390625, 155.066650390625, 153.066650390625, 152.066650390625, 150.066650390625, 149.066650390625, 144.066650390625, 143.066650390625, 142.066650390625, 141.066650390625, 140.066650390625, 139.066650390625, 138.066650390625, 136.066650390625, 135.066650390625, 134.066650390625, 133.066650390625, 130.066650390625, 129.066650390625, 128.066650390625, 127.066650390625, 125.066650390625, 124.066650390625, 123.066650390625, 122.066650390625, 121.066650390625, 119.066650390625, 118.066650390625, 117.066650390625, 115.066650390625, 113.066650390625, 112.066650390625, 111.066650390625, 110.066650390625, 109.066650390625, 108.066650390625, 107.066650390625, 106.066650390625, 105.066650390625, 104.066650390625, 103.066650390625, 102.066650390625, 101.066650390625, 99.066650390625, 98.066650390625, 96.066650390625, 94.066650390625, 93.066650390625, 91.066650390625, 89.066650390625, 88.066650390625, 87.066650390625, 86.066650390625, 85.066650390625, 83.066650390625, 81.066650390625, 81.066650390625, 79.066650390625, 78.066650390625, 77.066650390625, 76.066650390625], time=[1214254.824543, 1214262.577857, 1214270.7296779999, 1214278.640824, 1214286.0925750001, 1214294.695566, 1214302.7883980002, 1214310.6518990002, 1214318.789718, 1214326.717464, 1214334.789075, 1214342.883386, 1214350.892247, 1214358.654479, 1214366.685606, 1214374.118071, 1214382.800607, 1214390.789755, 1214398.136953, 1214405.997091, 1214414.78768, 1214422.4971999999, 1214430.702751, 1214438.416508, 1214446.039473, 1214454.0624000002, 1214462.8732440001, 1214470.7775029999, 1214478.6516439999, 1214486.283135, 1214494.704014, 1214502.906359, 1214510.619453, 1214518.6224149999, 1214525.922851, 1214534.8434509998, 1214542.853055, 1214550.3118409999, 1214558.743638, 1214565.922924, 1214582.4874800001, 1214590.642099, 1214598.7474379998, 1214606.5662139999, 1214614.613196, 1214622.741416, 1214629.97296, 1214638.766409, 1214646.7350640001, 1214654.465653, 1214662.7657940001, 1214670.807743, 1214678.75446, 1214686.837929, 1214693.963708, 1214702.264965, 1214710.381621, 1214718.718349, 1214726.715598, 1214734.7829840002, 1214742.331859, 1214750.805679, 1214758.810261, 1214766.113554, 1214774.6996860001, 1214782.481355, 1214790.3311059999, 1214798.533362, 1214806.409438, 1214813.928498, 1214822.504805, 1214830.811522, 1214837.927042, 1214846.6681960002, 1214854.677208, 1214862.064089, 1214870.708514, 1214878.5832240002, 1214886.512856, 1214894.82055, 1214901.936671, 1214910.767786, 1214918.229337, 1214926.824679, 1214934.697293, 1214942.215584, 1214950.847143, 1214958.523857, 1214966.856109, 1214974.593625, 1214982.0808930001, 1214990.8659, 1214998.080972, 1215006.826323, 1215014.1835510002, 1215022.7356190002, 1215030.2779619999, 1215038.337294, 1215046.733958, 1215053.944619, 1215062.3883369998, 1215069.995974, 1215078.291372, 1215086.11095, 1215094.587958, 1215101.926214, 1215109.979371, 1215118.043277, 1215134.1363879999, 1215141.9810970002, 1215150.89074, 1215158.6626789998, 1215166.461378, 1215174.7030520001, 1215182.320673, 1215190.71765, 1215198.1910350001, 1215206.228871, 1215214.8559110002, 1215222.79765, 1215230.188993, 1215238.726493, 1215246.8183010002, 1215254.736272, 1215262.141964, 1215270.73709, 1215278.678418, 1215294.291613, 1215302.751129, 1215310.283275, 1215318.7064419999, 1215325.974118, 1215334.775129, 1215342.8857240002, 1215350.897287, 1215358.701301, 1215374.13124, 1215382.820976, 1215390.7948379999, 1215398.138041, 1215406.417876, 1215414.7862729998, 1215422.903203, 1215430.485206, 1215438.69743, 1215454.5005029999, 1215462.5492969998, 1215470.568796, 1215477.9858710002, 1215486.891394, 1215494.432427, 1215510.6591619998, 1215518.874832, 1215526.6577009999, 1215534.60722, 1215542.7224939999, 1215550.824229, 1215558.005936, 1215566.003222, 1215573.9948830002, 1215582.831483, 1215590.043013, 1215598.66937, 1215608.2142160002, 1215614.759947, 1215621.940026, 1215638.676599, 1215646.702265, 1215654.017709, 1215662.281127, 1215670.062046, 1215678.727999, 1215686.689497, 1215694.56307, 1215702.85105, 1215710.386475, 1215718.6818350002, 1215726.026441, 1215734.6949079998, 1215742.680237, 1215758.728947, 1215766.771993, 1215774.56766, 1215782.094041, 1215790.139407, 1215805.989056, 1215814.816991, 1215821.960282, 1215830.327649, 1215838.139868, 1215846.0560650001, 1215854.8549300001, 1215862.8195399998, 1215870.738473, 1215878.183835, 1215886.4809100002, 1215894.770798, 1215902.6702369999, 1215910.882405, 1215918.8929100002, 1215926.7427299998, 1215934.808241, 1215942.6866010001, 1215949.956918, 1215959.676277, 1215966.542804, 1215974.737259, 1215982.8954929998, 1215990.6362649999, 1216006.910995, 1216014.8282319999, 1216021.9178960002, 1216030.633685, 1216038.220216, 1216046.8512350002, 1216054.723629, 1216062.705076, 1216070.726171, 1216078.104396, 1216086.474054, 1216094.13802, 1216102.5417789998, 1216110.227899, 1216117.9890959999, 1216126.7638990001, 1216134.706033, 1216142.743766, 1216150.394214, 1216158.142703, 1216165.9937510001, 1216174.7620199998, 1216182.445552, 1216190.7893059999, 1216198.126685, 1216205.998716, 1216213.9389250001, 1216222.746506, 1216230.837109, 1216238.8154590002, 1216246.5858129999, 1216254.8191880002, 1216262.05089, 1216270.759266, 1216278.752134, 1216286.4766519999, 1216293.955377, 1216302.792927, 1216310.809991, 1216350.6867510001, 1216358.742528, 1216382.8130239998, 1216389.993599, 1216398.765411, 1216406.161576, 1216454.012188, 1216462.140937, 1216470.910592, 1216478.0089840002, 1216486.78967, 1216510.782759, 1216534.70782, 1216542.2837109999, 1216558.682849, 1216566.492057, 1216638.817025, 1216654.219441, 1216662.111611, 1216670.714584, 1216677.934607, 1216686.22498, 1216694.715398, 1216702.447697, 1216710.87825, 1216726.658547, 1216733.9175510001, 1216741.9874810001, 1216783.485914, 1216798.193227, 1216806.729157, 1216813.974922, 1216830.7488129998, 1216846.869289, 1216878.209335, 1216886.550041, 1216910.072443, 1216926.87221, 1216934.7066529999, 1216942.088245, 1216950.111152, 1216958.0477059998, 1216974.227422, 1216982.818754, 1216998.091124, 1217014.2624279999, 1217086.069211, 1217262.7856100001, 1217286.0168990002, 1217782.8291379998, 1217871.0274699999, 1217926.8461540001, 1217965.9891859998, 1218054.8177810002, 1218062.375317, 1218134.812006, 1218142.84692], value='Example')"
      ]
     },
     "metadata": {},
     "output_type": "display_data"
    }
   ],
   "source": [
    "widget"
   ]
  },
  {
   "cell_type": "code",
   "execution_count": null,
   "metadata": {
    "collapsed": true
   },
   "outputs": [],
   "source": []
  }
 ],
 "metadata": {
  "kernelspec": {
   "display_name": "Python 3",
   "language": "python",
   "name": "python3"
  },
  "language_info": {
   "codemirror_mode": {
    "name": "ipython",
    "version": 3
   },
   "file_extension": ".py",
   "mimetype": "text/x-python",
   "name": "python",
   "nbconvert_exporter": "python",
   "pygments_lexer": "ipython3",
   "version": "3.6.2"
  }
 },
 "nbformat": 4,
 "nbformat_minor": 2
}
