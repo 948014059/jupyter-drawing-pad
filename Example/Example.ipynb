{
 "cells": [
  {
   "cell_type": "code",
   "execution_count": 90,
   "metadata": {},
   "outputs": [],
   "source": [
    "import jupyter_drawing_pad as jd"
   ]
  },
  {
   "cell_type": "code",
   "execution_count": 91,
   "metadata": {},
   "outputs": [],
   "source": [
    "widget = jd.DrawingPad()"
   ]
  },
  {
   "cell_type": "code",
   "execution_count": 92,
   "metadata": {},
   "outputs": [
    {
     "data": {
      "text/plain": [
       "'Hello World!!!!!!!!!!!!!!!!'"
      ]
     },
     "execution_count": 92,
     "metadata": {},
     "output_type": "execute_result"
    }
   ],
   "source": [
    "widget.value"
   ]
  },
  {
   "cell_type": "code",
   "execution_count": 93,
   "metadata": {},
   "outputs": [],
   "source": [
    "widget.value = \"Example\""
   ]
  },
  {
   "cell_type": "code",
   "execution_count": 94,
   "metadata": {},
   "outputs": [
    {
     "data": {
      "application/vnd.jupyter.widget-view+json": {
       "model_id": "d5c669544f3f4b7c9b219ffbccf3c455",
       "version_major": 2,
       "version_minor": 0
      },
      "text/html": [
       "<p>Failed to display Jupyter Widget of type <code>DrawingPad</code>.</p>\n",
       "<p>\n",
       "  If you're reading this message in Jupyter Notebook or JupyterLab, it may mean\n",
       "  that the widgets JavaScript is still loading. If this message persists, it\n",
       "  likely means that the widgets JavaScript library is either not installed or\n",
       "  not enabled. See the <a href=\"https://ipywidgets.readthedocs.io/en/stable/user_install.html\">Jupyter\n",
       "  Widgets Documentation</a> for setup instructions.\n",
       "</p>\n",
       "<p>\n",
       "  If you're reading this message in another notebook frontend (for example, a static\n",
       "  rendering on GitHub or <a href=\"https://nbviewer.jupyter.org/\">NBViewer</a>),\n",
       "  it may mean that your frontend doesn't currently support widgets.\n",
       "</p>\n"
      ],
      "text/plain": [
       "DrawingPad(value='Example')"
      ]
     },
     "metadata": {},
     "output_type": "display_data"
    }
   ],
   "source": [
    "widget"
   ]
  },
  {
   "cell_type": "code",
   "execution_count": 22,
   "metadata": {},
   "outputs": [
    {
     "data": {
      "text/plain": [
       "60"
      ]
     },
     "execution_count": 22,
     "metadata": {},
     "output_type": "execute_result"
    }
   ],
   "source": [
    "len(widget.data_x)"
   ]
  },
  {
   "cell_type": "code",
   "execution_count": 23,
   "metadata": {},
   "outputs": [
    {
     "data": {
      "text/plain": [
       "60"
      ]
     },
     "execution_count": 23,
     "metadata": {},
     "output_type": "execute_result"
    }
   ],
   "source": [
    "len(widget.data_y)"
   ]
  },
  {
   "cell_type": "code",
   "execution_count": 24,
   "metadata": {},
   "outputs": [
    {
     "data": {
      "text/plain": [
       "60"
      ]
     },
     "execution_count": 24,
     "metadata": {},
     "output_type": "execute_result"
    }
   ],
   "source": [
    "len(widget.time)"
   ]
  },
  {
   "cell_type": "code",
   "execution_count": 25,
   "metadata": {},
   "outputs": [],
   "source": [
    "import matplotlib.pyplot as plt"
   ]
  },
  {
   "cell_type": "code",
   "execution_count": 96,
   "metadata": {},
   "outputs": [
    {
     "data": {
      "image/png": "[encoded data removed]",
      "text/plain": [
       "<matplotlib.figure.Figure at 0x7f40e8aacac8>"
      ]
     },
     "metadata": {},
     "output_type": "display_data"
    }
   ],
   "source": [
    "plt.figure(figsize=(10,5))\n",
    "plt.plot(widget.data_x, widget.data_y)\n",
    "plt.xlim(0,500)\n",
    "plt.ylim(0,250)\n",
    "plt.show()"
   ]
  },
  {
   "cell_type": "code",
   "execution_count": 95,
   "metadata": {},
   "outputs": [
    {
     "data": {
      "application/vnd.jupyter.widget-view+json": {
       "model_id": "d5c669544f3f4b7c9b219ffbccf3c455",
       "version_major": 2,
       "version_minor": 0
      },
      "text/html": [
       "<p>Failed to display Jupyter Widget of type <code>DrawingPad</code>.</p>\n",
       "<p>\n",
       "  If you're reading this message in Jupyter Notebook or JupyterLab, it may mean\n",
       "  that the widgets JavaScript is still loading. If this message persists, it\n",
       "  likely means that the widgets JavaScript library is either not installed or\n",
       "  not enabled. See the <a href=\"https://ipywidgets.readthedocs.io/en/stable/user_install.html\">Jupyter\n",
       "  Widgets Documentation</a> for setup instructions.\n",
       "</p>\n",
       "<p>\n",
       "  If you're reading this message in another notebook frontend (for example, a static\n",
       "  rendering on GitHub or <a href=\"https://nbviewer.jupyter.org/\">NBViewer</a>),\n",
       "  it may mean that your frontend doesn't currently support widgets.\n",
       "</p>\n"
      ],
      "text/plain": [
       "DrawingPad(data_x=[137.5, 138.5, 139.5, 141.5, 142.5, 162.5, 169.5, 172.5, 175.5, 180.5, 184.5, 187.5, 189.5, 194.5, 208.5, 211.5, 214.5, 215.5, 216.5, 217.5, 218.5, 225.5, 226.5, 228.5, 229.5, 233.5, 233.5, 233.5, 233.5, 233.5, 234.5, 234.5, 234.5, 234.5, 234.5, 229.5, 224.5, 222.5, 220.5, 208.5, 203.5, 201.5, 200.5, 197.5, 195.5, 195.5, 194.5, 194.5, 195.5, 197.5, 197.5, 207.5, 213.5, 214.5, 220.5, 242.5, 244.5, 249.5, 254.5, 255.5, 259.5], data_y=[197.93333435058594, 196.93333435058594, 196.93333435058594, 194.93333435058594, 193.93333435058594, 179.93333435058594, 176.93333435058594, 175.93333435058594, 171.93333435058594, 167.93333435058594, 166.93333435058594, 164.93333435058594, 163.93333435058594, 161.93333435058594, 152.93333435058594, 150.93333435058594, 148.93333435058594, 147.93333435058594, 147.93333435058594, 146.93333435058594, 145.93333435058594, 136.93333435058594, 134.93333435058594, 131.93333435058594, 128.93333435058594, 116.93333435058594, 115.93333435058594, 114.93333435058594, 113.93333435058594, 112.93333435058594, 106.93333435058594, 103.93333435058594, 101.93333435058594, 99.93333435058594, 89.93333435058594, 79.93333435058594, 78.93333435058594, 78.93333435058594, 78.93333435058594, 84.93333435058594, 90.93333435058594, 92.93333435058594, 94.93333435058594, 106.93333435058594, 108.93333435058594, 115.93333435058594, 126.93333435058594, 131.93333435058594, 141.93333435058594, 144.93333435058594, 146.93333435058594, 156.93333435058594, 160.93333435058594, 161.93333435058594, 163.93333435058594, 171.93333435058594, 171.93333435058594, 172.93333435058594, 172.93333435058594, 172.93333435058594, 173.93333435058594], time=[17131.578611999998, 17139.863808000002, 17147.552098999997, 17155.669642, 17163.896671, 17227.447667, 17243.04471, 17251.429762, 17259.803288, 17267.144724, 17275.580617, 17283.517394000002, 17291.110317000002, 17308.826168, 17362.900822, 17371.894685, 17378.946043, 17388.060733, 17395.688677, 17403.361028, 17411.591009, 17483.257779, 17491.000347, 17507.600148, 17515.540410999998, 17579.383665, 17586.945431, 17595.246068, 17611.074667, 17619.624465, 17674.952914999998, 17691.012971, 17699.822109, 17707.630273, 17755.109473, 17835.663457, 17891.204471, 17923.868283, 17931.475485, 17987.437435, 18011.746345, 18019.573221000002, 18027.720678, 18083.058326, 18099.121153, 18115.493099, 18140.728659, 18147.44677, 18171.604518, 18179.04112, 18187.610877, 18234.913091, 18251.817332000002, 18258.915683000003, 18267.33753, 18315.364608, 18323.127659, 18339.799582, 18347.461408, 18354.905813999998, 18363.727558000002], value='Example')"
      ]
     },
     "metadata": {},
     "output_type": "display_data"
    }
   ],
   "source": [
    "widget"
   ]
  },
  {
   "cell_type": "code",
   "execution_count": null,
   "metadata": {
    "collapsed": true
   },
   "outputs": [],
   "source": []
  }
 ],
 "metadata": {
  "kernelspec": {
   "display_name": "Python 3",
   "language": "python",
   "name": "python3"
  },
  "language_info": {
   "codemirror_mode": {
    "name": "ipython",
    "version": 3
   },
   "file_extension": ".py",
   "mimetype": "text/x-python",
   "name": "python",
   "nbconvert_exporter": "python",
   "pygments_lexer": "ipython3",
   "version": "3.6.2"
  }
 },
 "nbformat": 4,
 "nbformat_minor": 2
}
