{
 "cells": [
  {
   "cell_type": "code",
   "execution_count": 1,
   "metadata": {},
   "outputs": [],
   "source": [
    "import jupyter_drawing_pad as jd\n",
    "import numpy as np"
   ]
  },
  {
   "cell_type": "code",
   "execution_count": 2,
   "metadata": {},
   "outputs": [],
   "source": [
    "widget = jd.DrawingPad()"
   ]
  },
  {
   "cell_type": "code",
   "execution_count": 3,
   "metadata": {},
   "outputs": [
    {
     "data": {
      "text/plain": [
       "'Hello World!!!!!!!!!!!!!!!!'"
      ]
     },
     "execution_count": 3,
     "metadata": {},
     "output_type": "execute_result"
    }
   ],
   "source": [
    "widget.value"
   ]
  },
  {
   "cell_type": "code",
   "execution_count": 4,
   "metadata": {},
   "outputs": [],
   "source": [
    "widget.value = \"Example\""
   ]
  },
  {
   "cell_type": "code",
   "execution_count": 5,
   "metadata": {
    "scrolled": true
   },
   "outputs": [
    {
     "data": {
      "application/vnd.jupyter.widget-view+json": {
       "model_id": "f88e92554e564516bc0564f9fe82aec6",
       "version_major": 2,
       "version_minor": 0
      },
      "text/html": [
       "<p>Failed to display Jupyter Widget of type <code>DrawingPad</code>.</p>\n",
       "<p>\n",
       "  If you're reading this message in Jupyter Notebook or JupyterLab, it may mean\n",
       "  that the widgets JavaScript is still loading. If this message persists, it\n",
       "  likely means that the widgets JavaScript library is either not installed or\n",
       "  not enabled. See the <a href=\"https://ipywidgets.readthedocs.io/en/stable/user_install.html\">Jupyter\n",
       "  Widgets Documentation</a> for setup instructions.\n",
       "</p>\n",
       "<p>\n",
       "  If you're reading this message in another notebook frontend (for example, a static\n",
       "  rendering on GitHub or <a href=\"https://nbviewer.jupyter.org/\">NBViewer</a>),\n",
       "  it may mean that your frontend doesn't currently support widgets.\n",
       "</p>\n"
      ],
      "text/plain": [
       "DrawingPad(data=[[], [], []], value='Example')"
      ]
     },
     "metadata": {},
     "output_type": "display_data"
    }
   ],
   "source": [
    "widget"
   ]
  },
  {
   "cell_type": "code",
   "execution_count": 62,
   "metadata": {},
   "outputs": [],
   "source": [
    "x_prime = np.array(widget.data_x)\n",
    "y_prime = np.array(widget.data_y)\n",
    "t_prime = np.array(widget.time)"
   ]
  },
  {
   "cell_type": "code",
   "execution_count": 7,
   "metadata": {},
   "outputs": [],
   "source": [
    "x = np.array(widget.data_x)\n",
    "y = np.array(widget.data_y)\n",
    "t = np.array(widget.time)"
   ]
  },
  {
   "cell_type": "code",
   "execution_count": 8,
   "metadata": {},
   "outputs": [
    {
     "data": {
      "text/plain": [
       "210"
      ]
     },
     "execution_count": 8,
     "metadata": {},
     "output_type": "execute_result"
    }
   ],
   "source": [
    "len(widget.data_x)"
   ]
  },
  {
   "cell_type": "code",
   "execution_count": 9,
   "metadata": {},
   "outputs": [],
   "source": [
    "def renormalize(t):\n",
    "    t = (t-t[0])/(t[-1]-t[0])\n",
    "    return t"
   ]
  },
  {
   "cell_type": "code",
   "execution_count": 33,
   "metadata": {},
   "outputs": [],
   "source": [
    "list_t_norm = renormalize(t)"
   ]
  },
  {
   "cell_type": "code",
   "execution_count": 63,
   "metadata": {},
   "outputs": [],
   "source": [
    "list_t_norm_prime = renormalize(t_prime)"
   ]
  },
  {
   "cell_type": "code",
   "execution_count": 34,
   "metadata": {},
   "outputs": [],
   "source": [
    "list_x_norm = (x - np.mean(x))/(np.std(x))\n",
    "list_y_norm = (y - np.mean(y))/(np.std(y))"
   ]
  },
  {
   "cell_type": "code",
   "execution_count": 64,
   "metadata": {},
   "outputs": [],
   "source": [
    "list_x_norm_prime = (x_prime - np.mean(x_prime))/(np.std(x_prime))\n",
    "list_y_norm_prime = (y_prime - np.mean(y_prime))/(np.std(y_prime))"
   ]
  },
  {
   "cell_type": "code",
   "execution_count": 19,
   "metadata": {},
   "outputs": [
    {
     "data": {
      "text/plain": [
       "array([ 0.        ,  0.00345294,  0.00855663,  0.0122613 ,  0.01545902,\n",
       "        0.01914679,  0.0229382 ,  0.02609363,  0.02986659,  0.03466941,\n",
       "        0.0380658 ,  0.04243876,  0.04548694,  0.04950107,  0.05249514,\n",
       "        0.05768054,  0.06147839,  0.06540446,  0.06892445,  0.15817034,\n",
       "        0.16302377,  0.1666079 ,  0.17021539,  0.17362444,  0.17720861,\n",
       "        0.18093166,  0.18440793,  0.18742012,  0.19126357,  0.19578138,\n",
       "        0.22721002,  0.23183352,  0.23568428,  0.24003187,  0.24312081,\n",
       "        0.24706875,  0.25054642,  0.25518876,  0.25897574,  0.26262379,\n",
       "        0.26652908,  0.26991022,  0.27337572,  0.27802777,  0.28184676,\n",
       "        0.28487208,  0.28911079,  0.29243917,  0.29640823,  0.29925419,\n",
       "        0.30444828,  0.30822469,  0.31130255,  0.31582378,  0.31886831,\n",
       "        0.32280284,  0.32604209,  0.33073492,  0.33410202,  0.33859523,\n",
       "        0.34161159,  0.34561669,  0.34864296,  0.35252262,  0.35718062,\n",
       "        0.36062102,  0.36465564,  0.36828107,  0.37132537,  0.37495669,\n",
       "        0.37844537,  0.38370121,  0.38763679,  0.39150424,  0.39449388,\n",
       "        0.3985677 ,  0.40157474,  0.40616273,  0.41009775,  0.4140298 ,\n",
       "        0.41810654,  0.42121151,  0.4248855 ,  0.42965761,  0.43336031,\n",
       "        0.43679798,  0.44079647,  0.44435722,  0.44781832,  0.45217779,\n",
       "        0.45587329,  0.45992412,  0.46348129,  0.46693493,  0.47051484,\n",
       "        0.47351314,  0.47738753,  0.48057081,  0.48524043,  0.48946598,\n",
       "        0.49311858,  0.49698824,  0.50013784,  0.50485076,  0.50909604,\n",
       "        0.51254416,  0.51648397,  0.51955455,  0.52347816,  0.52655232,\n",
       "        0.53141901,  0.5348331 ,  0.53858708,  0.54242876,  0.54606899,\n",
       "        0.65182437,  0.65617599,  0.6598703 ,  0.66389585,  0.66764188,\n",
       "        0.6708376 ,  0.6746598 ,  0.67786768,  0.68301174,  0.68585185,\n",
       "        0.68961418,  0.69334451,  0.69658463,  0.70068798,  0.70374208,\n",
       "        0.70854125,  0.71216461,  0.71564847,  0.71965306,  0.72278577,\n",
       "        0.72632204,  0.7296843 ,  0.73445068,  0.7381017 ,  0.74204329,\n",
       "        0.74505845,  0.74873269,  0.75267745,  0.75594054,  0.7595746 ,\n",
       "        0.76259911,  0.76724167,  0.7709632 ,  0.77487033,  0.77819046,\n",
       "        0.78167664,  0.78563802,  0.78872788,  0.79258564,  0.79573775,\n",
       "        0.80019042,  0.8039019 ,  0.80733741,  0.81104756,  0.81496451,\n",
       "        0.81849315,  0.82169576,  0.82555488,  0.82997145,  0.83399943,\n",
       "        0.83697241,  0.8409186 ,  0.84399371,  0.84758608,  0.85170703,\n",
       "        0.85472869,  0.85994386,  0.86297991,  0.86699739,  0.87078476,\n",
       "        0.87385771,  0.87734704,  0.88083031,  0.88604492,  0.88921039,\n",
       "        0.89270008,  0.89678649,  0.90033502,  0.90356565,  0.90750601,\n",
       "        0.91038656,  0.91572406,  0.91888606,  0.92244107,  0.92627159,\n",
       "        0.93009298,  0.93309828,  0.93680902,  0.94020425,  0.94488164,\n",
       "        0.94884187,  0.95219768,  0.95573431,  0.95956809,  0.96300865,\n",
       "        0.96614434,  0.97006754,  0.97306502,  0.9777288 ,  0.98181403,\n",
       "        0.9851341 ,  0.98854169,  0.99262978,  0.99658938,  1.        ])"
      ]
     },
     "execution_count": 19,
     "metadata": {},
     "output_type": "execute_result"
    }
   ],
   "source": [
    "t2"
   ]
  },
  {
   "cell_type": "code",
   "execution_count": 37,
   "metadata": {},
   "outputs": [],
   "source": [
    "def value(t, list_x, list_y, list_t):\n",
    "    idx = (np.abs(list_t-t)).argmin()\n",
    "    return np.array([list_x[idx], list_y[idx]])"
   ]
  },
  {
   "cell_type": "code",
   "execution_count": 38,
   "metadata": {},
   "outputs": [
    {
     "data": {
      "text/plain": [
       "array([ 0.73748545,  2.82551984])"
      ]
     },
     "execution_count": 38,
     "metadata": {},
     "output_type": "execute_result"
    }
   ],
   "source": [
    "value(0.123, list_x_norm, list_y_norm, list_t_norm)"
   ]
  },
  {
   "cell_type": "code",
   "execution_count": 54,
   "metadata": {},
   "outputs": [],
   "source": [
    "def distance(x, y):\n",
    "    return np.linalg.norm(x-y)"
   ]
  },
  {
   "cell_type": "code",
   "execution_count": 55,
   "metadata": {},
   "outputs": [],
   "source": [
    "grid_time = np.linspace(0, 1, 100)"
   ]
  },
  {
   "cell_type": "code",
   "execution_count": 56,
   "metadata": {},
   "outputs": [],
   "source": [
    "def distance_total(list_x, list_y, list_t, list_x_prime, list_y_prime, list_t_prime):\n",
    "    grid_time = np.linspace(0, 1, 100)\n",
    "    value_tot = sum([distance(value(t, list_x, list_y, list_t), value(t, list_x_prime, list_y_prime, list_t_prime)) for t in grid_time])\n",
    "    return value_tot"
   ]
  },
  {
   "cell_type": "code",
   "execution_count": 65,
   "metadata": {},
   "outputs": [
    {
     "data": {
      "text/plain": [
       "127.22944365368527"
      ]
     },
     "execution_count": 65,
     "metadata": {},
     "output_type": "execute_result"
    }
   ],
   "source": [
    "distance_total(list_x_norm, list_y_norm, list_t_norm, list_x_norm_prime, list_y_norm_prime, list_t_norm_prime)"
   ]
  },
  {
   "cell_type": "code",
   "execution_count": null,
   "metadata": {},
   "outputs": [],
   "source": []
  }
 ],
 "metadata": {
  "kernelspec": {
   "display_name": "Python 3",
   "language": "python",
   "name": "python3"
  },
  "language_info": {
   "codemirror_mode": {
    "name": "ipython",
    "version": 3
   },
   "file_extension": ".py",
   "mimetype": "text/x-python",
   "name": "python",
   "nbconvert_exporter": "python",
   "pygments_lexer": "ipython3",
   "version": "3.6.2"
  }
 },
 "nbformat": 4,
 "nbformat_minor": 2
}
